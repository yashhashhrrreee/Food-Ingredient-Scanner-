{
 "cells": [
  {
   "cell_type": "code",
   "execution_count": 4,
   "metadata": {},
   "outputs": [],
   "source": [
    "import os\n",
    "import requests\n",
    "from bs4 import BeautifulSoup\n",
    "from gtts import gTTS\n",
    "import moviepy as mp\n",
    "import torch\n",
    "from torchvision import transforms\n",
    "from PIL import Image\n",
    "import joblib"
   ]
  },
  {
   "cell_type": "code",
   "execution_count": null,
   "metadata": {},
   "outputs": [],
   "source": [
    "def fetch_images(query, num_images=5):\n",
    "    url = f\"https://www.google.com/search?hl=en&tbm=isch&q={query}\"\n",
    "    headers = {'User-Agent': 'Mozilla/5.0'}\n",
    "    response = requests.get(url, headers=headers)\n",
    "    if response.status_code != 200:\n",
    "        print(\"Failed to fetch images.\")\n",
    "        return []\n",
    "    soup = BeautifulSoup(response.text, 'html.parser')\n",
    "    return [img['src'] for img in soup.find_all('img')[1:num_images+1] if 'src' in img.attrs]\n",
    "\n",
    "def download_image(image_url, folder_path=\"downloaded_images\"):\n",
    "    os.makedirs(folder_path, exist_ok=True)\n",
    "    image_name = os.path.join(folder_path, image_url.split(\"/\")[-1])\n",
    "    response = requests.get(image_url, stream=True)\n",
    "    if response.status_code == 200:\n",
    "        with open(image_name, 'wb') as file:\n",
    "            file.write(response.content)\n",
    "        return image_name\n",
    "    return None\n",
    "\n",
    "def create_video_from_image_and_text(image_path, text, output_filename=\"output_video.mp4\"):\n",
    "    tts = gTTS(text, lang='en')\n",
    "    tts.save(\"temp_audio.mp3\")\n",
    "    clip = mp.ImageClip(image_path).set_duration(5).set_audio(mp.AudioFileClip(\"temp_audio.mp3\"))\n",
    "    clip.write_videofile(output_filename, fps=24)\n",
    "    os.remove(\"temp_audio.mp3\")\n",
    "\n",
    "def extract_text_from_image(image_path):\n",
    "    transform = transforms.Compose([transforms.Resize((224, 224)), transforms.ToTensor()])\n",
    "    img = Image.open(image_path).convert('RGB')\n",
    "    img_tensor = transform(img).unsqueeze(0).to(device)\n",
    "    with torch.no_grad():\n",
    "        output = model(img_tensor)\n",
    "    return \"Extracted Text\"  # Replace with decoding logic\n"
   ]
  },
  {
   "cell_type": "code",
   "execution_count": null,
   "metadata": {},
   "outputs": [],
   "source": [
    "if _name_ == \"_main_\":\n",
    "    image_path = \"maggi_recipe.jpg\"  # Example input\n",
    "    text = extract_text_from_image(image_path)\n",
    "    print(f\"Extracted Text: {text}\")\n",
    "    images = fetch_images(text, 3)\n",
    "    for url in images:\n",
    "        downloaded_path = download_image(url)\n",
    "        if downloaded_path:\n",
    "            create_video_from_image_and_text(downloaded_path, text)"
   ]
  }
 ],
 "metadata": {
  "kernelspec": {
   "display_name": "Python 3",
   "language": "python",
   "name": "python3"
  },
  "language_info": {
   "codemirror_mode": {
    "name": "ipython",
    "version": 3
   },
   "file_extension": ".py",
   "mimetype": "text/x-python",
   "name": "python",
   "nbconvert_exporter": "python",
   "pygments_lexer": "ipython3",
   "version": "3.11.7"
  }
 },
 "nbformat": 4,
 "nbformat_minor": 2
}
